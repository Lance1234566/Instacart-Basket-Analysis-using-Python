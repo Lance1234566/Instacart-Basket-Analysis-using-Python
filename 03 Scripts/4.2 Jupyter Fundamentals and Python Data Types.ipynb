{
 "cells": [
  {
   "cell_type": "markdown",
   "id": "c15ebaf8-4e56-4247-a09e-9660e009ea4f",
   "metadata": {},
   "source": [
    "# 01. Importing Libraries"
   ]
  },
  {
   "cell_type": "code",
   "execution_count": null,
   "id": "37bc13c9-856e-4fd2-b0ce-3bfdf79efb8a",
   "metadata": {},
   "outputs": [],
   "source": [
    "# import libraries "
   ]
  },
  {
   "cell_type": "code",
   "execution_count": 1,
   "id": "ad3e3065-fa34-4177-90e7-0ad3b85dc574",
   "metadata": {},
   "outputs": [],
   "source": [
    "import pandas as pd\n",
    "import numpy as np\n",
    "import os"
   ]
  },
  {
   "cell_type": "markdown",
   "id": "2d7d3944-41e1-4b8d-b2cf-58f0be2c4ec4",
   "metadata": {},
   "source": [
    "# 02. Working with Python data types"
   ]
  },
  {
   "cell_type": "code",
   "execution_count": null,
   "id": "e8d3beb1-9990-4e91-bdc9-1510516651cb",
   "metadata": {},
   "outputs": [],
   "source": [
    "# Code 3 different ways of reaching a result of 100"
   ]
  },
  {
   "cell_type": "code",
   "execution_count": 2,
   "id": "b4e14640-1fc4-4c21-a6b8-753382636b67",
   "metadata": {},
   "outputs": [],
   "source": [
    "x = 49"
   ]
  },
  {
   "cell_type": "code",
   "execution_count": 3,
   "id": "12afb89f-b3db-4478-a207-a2d36426e101",
   "metadata": {},
   "outputs": [],
   "source": [
    "y = 51 "
   ]
  },
  {
   "cell_type": "code",
   "execution_count": 4,
   "id": "ea3b3912-fd41-4008-990a-2e295e524160",
   "metadata": {},
   "outputs": [
    {
     "data": {
      "text/plain": [
       "100"
      ]
     },
     "execution_count": 4,
     "metadata": {},
     "output_type": "execute_result"
    }
   ],
   "source": [
    "x + y"
   ]
  },
  {
   "cell_type": "code",
   "execution_count": 5,
   "id": "fabe5acf-e93a-4c64-b52e-768678add884",
   "metadata": {},
   "outputs": [],
   "source": [
    "x = 283"
   ]
  },
  {
   "cell_type": "code",
   "execution_count": 6,
   "id": "dcee7ded-3c0a-4bd8-9060-0b3120b99628",
   "metadata": {},
   "outputs": [],
   "source": [
    "y = 183"
   ]
  },
  {
   "cell_type": "code",
   "execution_count": 7,
   "id": "3f949264-52d7-4f36-954b-74d499f40728",
   "metadata": {},
   "outputs": [
    {
     "data": {
      "text/plain": [
       "100"
      ]
     },
     "execution_count": 7,
     "metadata": {},
     "output_type": "execute_result"
    }
   ],
   "source": [
    "x - y"
   ]
  },
  {
   "cell_type": "code",
   "execution_count": 8,
   "id": "778646fc-388b-4664-b451-02ce6cd88e69",
   "metadata": {},
   "outputs": [],
   "source": [
    "x = 33 "
   ]
  },
  {
   "cell_type": "code",
   "execution_count": 9,
   "id": "06168780-86dc-4119-b286-ac2630ae8cb3",
   "metadata": {},
   "outputs": [],
   "source": [
    "y = 33"
   ]
  },
  {
   "cell_type": "code",
   "execution_count": 13,
   "id": "f5594145-b862-47c6-b3c5-f8b96839875f",
   "metadata": {},
   "outputs": [],
   "source": [
    "z = 40"
   ]
  },
  {
   "cell_type": "code",
   "execution_count": 12,
   "id": "20bbf6fb-859d-41b4-84e8-26107261a536",
   "metadata": {},
   "outputs": [],
   "source": [
    "w = 6"
   ]
  },
  {
   "cell_type": "code",
   "execution_count": 14,
   "id": "b95f86df-40ca-4db5-9ad9-a202fe802f4a",
   "metadata": {},
   "outputs": [
    {
     "data": {
      "text/plain": [
       "100"
      ]
     },
     "execution_count": 14,
     "metadata": {},
     "output_type": "execute_result"
    }
   ],
   "source": [
    "x + y + z - w"
   ]
  },
  {
   "cell_type": "code",
   "execution_count": null,
   "id": "cfc53691-066b-4abd-9894-dd703fab9f6c",
   "metadata": {},
   "outputs": [],
   "source": [
    "# Code 2 floating-point variables and divide them by each other"
   ]
  },
  {
   "cell_type": "code",
   "execution_count": 15,
   "id": "8ac2d51a-240f-4244-8867-ee0f77b2a9c0",
   "metadata": {},
   "outputs": [],
   "source": [
    "x = 4.66"
   ]
  },
  {
   "cell_type": "code",
   "execution_count": 16,
   "id": "96378fcd-975c-4125-853f-206b49f1845f",
   "metadata": {},
   "outputs": [],
   "source": [
    "y = 2.33"
   ]
  },
  {
   "cell_type": "code",
   "execution_count": 17,
   "id": "89c33f2e-055b-4c2c-842d-6a3f592115a7",
   "metadata": {},
   "outputs": [
    {
     "data": {
      "text/plain": [
       "2.0"
      ]
     },
     "execution_count": 17,
     "metadata": {},
     "output_type": "execute_result"
    }
   ],
   "source": [
    "x/y"
   ]
  },
  {
   "cell_type": "code",
   "execution_count": 18,
   "id": "5899a860-5fba-4e7e-b78f-1ec3bd475bf4",
   "metadata": {},
   "outputs": [],
   "source": [
    "x = 44.64"
   ]
  },
  {
   "cell_type": "code",
   "execution_count": 19,
   "id": "3fb95e25-9f9e-4994-8e68-c2f4a6856a98",
   "metadata": {},
   "outputs": [],
   "source": [
    "y = 3.78"
   ]
  },
  {
   "cell_type": "code",
   "execution_count": 20,
   "id": "09e04cd1-f167-4863-953d-016e0a91b5ac",
   "metadata": {},
   "outputs": [
    {
     "data": {
      "text/plain": [
       "11.80952380952381"
      ]
     },
     "execution_count": 20,
     "metadata": {},
     "output_type": "execute_result"
    }
   ],
   "source": [
    "x/y"
   ]
  },
  {
   "cell_type": "code",
   "execution_count": null,
   "id": "0b505273-7fd0-4f6a-85ca-421ca2c2328c",
   "metadata": {},
   "outputs": [],
   "source": [
    "# Construct a short word made of separate strings"
   ]
  },
  {
   "cell_type": "code",
   "execution_count": 22,
   "id": "35a1e431-87db-4de7-93f7-a170c8dc42bd",
   "metadata": {},
   "outputs": [],
   "source": [
    "x = 'Red '"
   ]
  },
  {
   "cell_type": "code",
   "execution_count": 23,
   "id": "1b255569-36e2-4185-a266-72bdc5592d7b",
   "metadata": {},
   "outputs": [],
   "source": [
    "y = 'Panda'"
   ]
  },
  {
   "cell_type": "code",
   "execution_count": 24,
   "id": "99477d0a-a071-495b-8c47-54302ee9936d",
   "metadata": {},
   "outputs": [
    {
     "data": {
      "text/plain": [
       "'Red Panda'"
      ]
     },
     "execution_count": 24,
     "metadata": {},
     "output_type": "execute_result"
    }
   ],
   "source": [
    "x + y "
   ]
  },
  {
   "cell_type": "code",
   "execution_count": null,
   "id": "31be7034-e585-40ac-8104-eb7a4b9ed60f",
   "metadata": {},
   "outputs": [],
   "source": [
    "# Construct a short word made of separate strings"
   ]
  },
  {
   "cell_type": "code",
   "execution_count": 26,
   "id": "8b9bc593-e9ca-4dff-99a2-b63e6c5dac24",
   "metadata": {},
   "outputs": [],
   "source": [
    "x = 'My dog '"
   ]
  },
  {
   "cell_type": "code",
   "execution_count": 27,
   "id": "5c8bc722-212e-4da6-83b2-4988116fbab2",
   "metadata": {},
   "outputs": [],
   "source": [
    "y = 'ate my '"
   ]
  },
  {
   "cell_type": "code",
   "execution_count": 28,
   "id": "095bf4cf-d2d7-4ab4-91cc-1aea593ea67d",
   "metadata": {},
   "outputs": [],
   "source": [
    "z = 'homework.'"
   ]
  },
  {
   "cell_type": "code",
   "execution_count": 29,
   "id": "7295b3e7-1b67-465b-98d1-719095a0cb8e",
   "metadata": {},
   "outputs": [
    {
     "data": {
      "text/plain": [
       "'My dog ate my homework.'"
      ]
     },
     "execution_count": 29,
     "metadata": {},
     "output_type": "execute_result"
    }
   ],
   "source": [
    "x + y + z"
   ]
  },
  {
   "cell_type": "code",
   "execution_count": 31,
   "id": "3693f779-2bc9-419c-b6c5-2c5d6ea20885",
   "metadata": {},
   "outputs": [],
   "source": [
    "x = 'My car '"
   ]
  },
  {
   "cell_type": "code",
   "execution_count": 32,
   "id": "f9524ade-0d67-4c2a-ad94-522a0458a2ce",
   "metadata": {},
   "outputs": [],
   "source": [
    "y = 'needs to '"
   ]
  },
  {
   "cell_type": "code",
   "execution_count": 33,
   "id": "20216fc9-a69a-4704-91dc-b0076e34b857",
   "metadata": {},
   "outputs": [],
   "source": [
    "z = 'be washed.'"
   ]
  },
  {
   "cell_type": "code",
   "execution_count": 34,
   "id": "4a4c9f21-c292-4820-98ce-df00e7d4c272",
   "metadata": {},
   "outputs": [
    {
     "data": {
      "text/plain": [
       "'My car needs to be washed.'"
      ]
     },
     "execution_count": 34,
     "metadata": {},
     "output_type": "execute_result"
    }
   ],
   "source": [
    "x + y + z"
   ]
  }
 ],
 "metadata": {
  "kernelspec": {
   "display_name": "Python 3 (ipykernel)",
   "language": "python",
   "name": "python3"
  },
  "language_info": {
   "codemirror_mode": {
    "name": "ipython",
    "version": 3
   },
   "file_extension": ".py",
   "mimetype": "text/x-python",
   "name": "python",
   "nbconvert_exporter": "python",
   "pygments_lexer": "ipython3",
   "version": "3.11.7"
  }
 },
 "nbformat": 4,
 "nbformat_minor": 5
}
