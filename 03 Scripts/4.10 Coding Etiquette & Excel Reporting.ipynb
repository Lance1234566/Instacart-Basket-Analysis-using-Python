{
 "cells": [
  {
   "cell_type": "markdown",
   "id": "8dcd97fa-9af2-47a5-ae78-f76bbc2f0fa0",
   "metadata": {},
   "source": [
    "# Exercise 4.10: Coding Etiquette & Excel Reporting\n",
    "## Table of Contents:\n",
    "1. #### Using Excel with Python\n",
    "2. #### Data Security\n",
    "3. #### Instacart Analysis Final Report\n",
    "4. #### Non-Technical Skills\n"
   ]
  },
  {
   "cell_type": "markdown",
   "id": "6a80fff0-8872-4b35-97af-e9617fb0fad2",
   "metadata": {},
   "source": [
    "### Exercise 01. Using Excel with Python"
   ]
  },
  {
   "cell_type": "code",
   "execution_count": 3,
   "id": "47d4d8b8-ca1b-447a-b944-1c5d29c5b033",
   "metadata": {},
   "outputs": [],
   "source": [
    "# Import libraries \n",
    "import pandas as pd\n",
    "import numpy as np\n",
    "import os\n",
    "import matplotlib.pyplot as plt\n",
    "import seaborn as sns\n",
    "import scipy"
   ]
  },
  {
   "cell_type": "code",
   "execution_count": 4,
   "id": "c3fa171c-daca-42c2-898e-6a6c9aec15d0",
   "metadata": {},
   "outputs": [],
   "source": [
    "# Set path\n",
    "path = r'C:\\Users\\lance\\Documents\\Achievement 4 Project'"
   ]
  },
  {
   "cell_type": "code",
   "execution_count": 6,
   "id": "c030bede-6247-4b3a-8053-68218110d29b",
   "metadata": {},
   "outputs": [],
   "source": [
    "# Import Instacart project data\n",
    "instacart = pd.read_pickle(os.path.join(path, '02 Data', 'Prepared Data', 'orders_products_customers_merged.pkl'))"
   ]
  },
  {
   "cell_type": "markdown",
   "id": "dbdc7f0b-1153-4809-9993-d5692ba007a0",
   "metadata": {},
   "source": [
    "#### Crosstabs in Python"
   ]
  },
  {
   "cell_type": "code",
   "execution_count": 7,
   "id": "d7863ebc-b7bf-4444-a373-db760dc7f7a9",
   "metadata": {},
   "outputs": [],
   "source": [
    "# Crosstabs are a common tool for conducting data checks in Python\n",
    "# They're comparable to pivot tables in Excel"
   ]
  },
  {
   "cell_type": "code",
   "execution_count": 8,
   "id": "0daaf94e-4300-4ce6-bea1-c19d93ec4e32",
   "metadata": {},
   "outputs": [],
   "source": [
    "# Create a crosstab between the 'days_since_prior_order' column and the 'order_number' column\n",
    "crosstab = pd.crosstab(instacart['days_since_prior_order'], instacart['order_number'], dropna = False)"
   ]
  },
  {
   "cell_type": "code",
   "execution_count": 9,
   "id": "8a028bfd-5896-4f68-bd0b-1395d76c6e75",
   "metadata": {},
   "outputs": [],
   "source": [
    "# Copy the table straight to your clipboard and paste it into Excel\n",
    "crosstab.to_clipboard()"
   ]
  },
  {
   "cell_type": "markdown",
   "id": "fc8ae241-b351-492a-8ae1-552d5bd90b27",
   "metadata": {},
   "source": [
    "The output pasted into Excel shows that where the 'days_since_prior_order' column crosses with order numbers of 1, there's a column of 0s. This supports the initial assumption about missing values and means we can safely disregard them."
   ]
  },
  {
   "cell_type": "markdown",
   "id": "d7ed301d-5658-4660-a8b9-85fdbe838943",
   "metadata": {},
   "source": [
    "#### Confiming with Stakeholders"
   ]
  },
  {
   "cell_type": "markdown",
   "id": "76ccccc7-4b44-4a33-a7fc-cbdd67b8ab85",
   "metadata": {},
   "source": [
    "It's important to be pedantic in the initial exploration of your data. When running missing value and duplicate checks, transfer the data in question onto an Excel and send it to your client. Assumptions can be confirmed via this method."
   ]
  },
  {
   "cell_type": "markdown",
   "id": "1cc47d0d-47bc-4b09-9094-67fad934cbaf",
   "metadata": {},
   "source": [
    "#### Python Text Editor"
   ]
  },
  {
   "cell_type": "markdown",
   "id": "b93e6167-8358-4604-a1de-f7b1bb3722b4",
   "metadata": {},
   "source": [
    "Sometimes you can use Python as a text editor to prep your data for Python. Imagine the following scenario: you've aggregated 120 columns with averages that contain '_mean_' within the name, and now you want to conduct an analysis only on these columns by creating a subset. Here's one way to save time with Excel:\n",
    "1. Copy all the columns from Python using the df.columns function\n",
    "2. Paste the columns into Excel in a transposed format\n",
    "3. Filter out all the cells that contain “_mean_” within their names\n",
    "4. Add the quotation marks and commas by using the & operator\n",
    "5. Copy the output into Python and create your subset"
   ]
  },
  {
   "cell_type": "markdown",
   "id": "9cf1460b-1853-48b7-8cf5-0b3825b09386",
   "metadata": {},
   "source": [
    "###  Exercise 02. Data Security "
   ]
  },
  {
   "cell_type": "markdown",
   "id": "591c253e-a730-46b4-8834-c5e43637f9dc",
   "metadata": {},
   "source": [
    "Data security is a topic that will come up again and again, especially once you land a job in the analysis field. It covers many domains, from storing data securely, to sending sensitive information, to communicating the results of an analysis that contains sensitive data. All of these are things you need to consider as a data analyst no matter what project you’re working on or which client you’re working for. You must be aware of personally identifiable information (PII). If even a single column within the data set can be traced back to a particular person, it's PII. "
   ]
  },
  {
   "cell_type": "markdown",
   "id": "85d7f349-e806-44fa-9352-f80b12617ab8",
   "metadata": {},
   "source": [
    "###  Exercise 03. Instacart Analysis Final Report"
   ]
  },
  {
   "cell_type": "markdown",
   "id": "2b8b6777-e76e-4ccb-959f-fbf53efb6718",
   "metadata": {},
   "source": [
    "The end deliverable of the Instacart Analysis project will be in the format of an Excel report. The report will include tabs referring to the different steps you conducted throughout this Achievement, for instancem your data consistency checks, data wrangling, column derivations, and visualizations."
   ]
  },
  {
   "cell_type": "markdown",
   "id": "72b73168-01e6-4ce5-b2d8-105bced1a335",
   "metadata": {},
   "source": [
    "#### Population Flows"
   ]
  },
  {
   "cell_type": "markdown",
   "id": "85cc21db-d7a1-41a5-8edc-249e7367c6bf",
   "metadata": {},
   "source": [
    "A population flow is a flowchart that describes any change that took place in your data set throughout the prep stage of your analysis. While there are other days to report these metrics, this approach is good at illustrating how the numbers flowed throughout the checks."
   ]
  },
  {
   "cell_type": "markdown",
   "id": "92c32384-b443-4f68-9efa-9d7e95c6d5f3",
   "metadata": {},
   "source": [
    "#### Data Citation "
   ]
  },
  {
   "cell_type": "markdown",
   "id": "9a9cf29e-43d5-45c5-b33f-0595a20f2cd1",
   "metadata": {},
   "source": [
    "Always cite the source of your data, in any final output or deliverable that will be made available publicly. For example, instacart has a template for citing theirs. You can add the citations to the first tab of the report named the 'Data Citation.'"
   ]
  },
  {
   "cell_type": "markdown",
   "id": "b2131ca3-060d-4709-866b-40db13534827",
   "metadata": {},
   "source": [
    "### Exercise 04. Non-Technical Skills"
   ]
  },
  {
   "cell_type": "markdown",
   "id": "07a407c2-b242-4703-a5fd-1f0989887880",
   "metadata": {},
   "source": [
    "#### Skepticism and Critical Thinking"
   ]
  },
  {
   "cell_type": "markdown",
   "id": "1557d563-8726-427c-b070-be23613a6383",
   "metadata": {},
   "source": [
    "Have a vision for what you expect to see for each operation you perform. Question each output that’s returned. There will almost never be a time you receive data that’s free from incorrect or corrupted information, which is why extensive data checks are so vital to your work. Always be skeptical of your data. Only then can you discover and report on any issues it might contain."
   ]
  },
  {
   "cell_type": "markdown",
   "id": "e7aeda8e-e6c5-4b7c-b140-020b72bf2f2e",
   "metadata": {},
   "source": [
    "#### Precision"
   ]
  },
  {
   "cell_type": "markdown",
   "id": "21d75a3e-8df6-4c0e-8ab6-87c608499439",
   "metadata": {},
   "source": [
    "Conducting analysis requires considerable attention to detail. You should have a clear overview of everything that’s happening to your project data at any given time—the total number of observations in the data set you received, how the numbers have changed after deduping and removing missing entries, and what columns are available to you."
   ]
  },
  {
   "cell_type": "markdown",
   "id": "fc37325f-d939-444e-b978-c0cc3626274c",
   "metadata": {},
   "source": [
    "#### Communication"
   ]
  },
  {
   "cell_type": "markdown",
   "id": "51ab9150-f7dd-4178-9461-51f231ec490f",
   "metadata": {},
   "source": [
    "Communication is perhaps one of the most important skills of all. As an analyst, you need to be capable of communicating with your team and stakeholders, keeping them up to speed on what analyses you’re proceeding with, what analyses you’ve conducted, and what you’ve achieved thus far. If you have a query about the data, or something is taking longer than expected, this should be communicated to all relevant stakeholders in a timely manner"
   ]
  },
  {
   "cell_type": "markdown",
   "id": "e2510285-49dd-4674-bce0-c512b93978cc",
   "metadata": {},
   "source": [
    "#### Domain Expertise"
   ]
  },
  {
   "cell_type": "markdown",
   "id": "71696e07-5648-4aa7-a259-efc438b44595",
   "metadata": {},
   "source": [
    "After being hired as an analyst, be proactive. Reach out to more-senior colleagues, ask questions about what certain elements of your data mean, and seek to understand the domain in which you’re working. This won’t only aid you in your development as an analyst, it will also boost your performance as a newbie in a new firm. You should always try to gain as much expertise as you can in the field in which you’re analyzing. The insights this will bring to your analysis simply can’t be overstated."
   ]
  }
 ],
 "metadata": {
  "kernelspec": {
   "display_name": "Python 3 (ipykernel)",
   "language": "python",
   "name": "python3"
  },
  "language_info": {
   "codemirror_mode": {
    "name": "ipython",
    "version": 3
   },
   "file_extension": ".py",
   "mimetype": "text/x-python",
   "name": "python",
   "nbconvert_exporter": "python",
   "pygments_lexer": "ipython3",
   "version": "3.11.7"
  }
 },
 "nbformat": 4,
 "nbformat_minor": 5
}
